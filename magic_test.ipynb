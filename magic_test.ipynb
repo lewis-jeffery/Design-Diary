{
  "cells": [
    {
      "cell_type": "code",
      "execution_count": null,
      "id": "magic-test-1",
      "metadata": {},
      "outputs": [],
      "source": [
        "# Test 1: Magic command handling\n",
        "%matplotlib inline\n",
        "import matplotlib.pyplot as plt\n",
        "import numpy as np\n",
        "\n",
        "print(\"Magic command test - this should work without errors\")\n",
        "x = np.linspace(0, 10, 100)\n",
        "y = np.sin(x)\n",
        "\n",
        "plt.figure(figsize=(8, 4))\n",
        "plt.plot(x, y, 'b-', linewidth=2)\n",
        "plt.title('Magic Command Test - Sine Wave')\n",
        "plt.xlabel('X')\n",
        "plt.ylabel('Y')\n",
        "plt.grid(True)\n",
        "plt.show()"
      ]
    },
    {
      "cell_type": "code",
      "execution_count": null,
      "id": "scroll-test-1",
      "metadata": {},
      "outputs": [],
      "source": [
        "# Test 2: Long output for scrolling test\n",
        "print(\"This is a long output test to verify scrolling functionality works properly.\")\n",
        "print(\"=\" * 80)\n",
        "\n",
        "for i in range(50):\n",
        "    print(f\"Line {i+1:2d}: This is a test line to create long output that should be scrollable when the scroll option is enabled. The output should not cause the entire canvas to scroll.\")\n",
        "\n",
        "print(\"=\" * 80)\n",
        "print(\"End of long output test. Use the 'Scroll' button to enable scrolling within this output cell.\")"
      ]
    },
    {
      "cell_type": "code",
      "execution_count": null,
      "id": "error-test-1",
      "metadata": {},
      "outputs": [],
      "source": [
        "# Test 3: Error output scrolling test\n",
        "print(\"This cell will generate an error with a long traceback\")\n",
        "print(\"The error should be scrollable when scroll mode is enabled\")\n",
        "\n",
        "def nested_function_1():\n",
        "    def nested_function_2():\n",
        "        def nested_function_3():\n",
        "            def nested_function_4():\n",
        "                def nested_function_5():\n",
        "                    # This will cause a long traceback\n",
        "                    raise ValueError(\"This is a test error with a very long message that should demonstrate the scrolling functionality for error outputs. The error message is intentionally verbose to test the scrolling behavior in error scenarios.\")\n",
        "                nested_function_5()\n",
        "            nested_function_4()\n",
        "        nested_function_3()\n",
        "    nested_function_2()\n",
        "\n",
        "nested_function_1()"
      ]
    },
    {
      "cell_type": "code",
      "execution_count": null,
      "id": "mixed-test-1",
      "metadata": {},
      "outputs": [],
      "source": [
        "# Test 4: Mixed output (text + plot) with magic commands\n",
        "%matplotlib inline\n",
        "import matplotlib.pyplot as plt\n",
        "import numpy as np\n",
        "\n",
        "print(\"Mixed output test with magic commands\")\n",
        "print(\"This combines text output with matplotlib plots\")\n",
        "print(\"-\" * 50)\n",
        "\n",
        "# Generate some data\n",
        "x = np.linspace(0, 2*np.pi, 100)\n",
        "y1 = np.sin(x)\n",
        "y2 = np.cos(x)\n",
        "\n",
        "print(f\"Generated {len(x)} data points\")\n",
        "print(f\"X range: {x.min():.2f} to {x.max():.2f}\")\n",
        "print(f\"Y1 range: {y1.min():.2f} to {y1.max():.2f}\")\n",
        "print(f\"Y2 range: {y2.min():.2f} to {y2.max():.2f}\")\n",
        "\n",
        "# Create plot\n",
        "plt.figure(figsize=(10, 6))\n",
        "plt.plot(x, y1, 'b-', label='sin(x)', linewidth=2)\n",
        "plt.plot(x, y2, 'r--', label='cos(x)', linewidth=2)\n",
        "plt.title('Mixed Output Test - Trigonometric Functions')\n",
        "plt.xlabel('X (radians)')\n",
        "plt.ylabel('Y')\n",
        "plt.legend()\n",
        "plt.grid(True, alpha=0.3)\n",
        "plt.show()\n",
        "\n",
        "print(\"-\" * 50)\n",
        "print(\"Plot generated successfully!\")\n",
        "print(\"Both text and image outputs should be visible and scrollable when needed.\")"
      ]
    }
  ],
  "metadata": {
    "kernelspec": {
      "display_name": "Python 3",
      "language": "python",
      "name": "python3"
    },
    "language_info": {
      "codemirror_mode": {
        "name": "ipython",
        "version": 3
      },
      "file_extension": ".py",
      "mimetype": "text/x-python",
      "name": "python",
      "nbconvert_exporter": "python",
      "pygments_lexer": "ipython3",
      "version": "3.8.5"
    }
  },
  "nbformat": 4,
  "nbformat_minor": 4
}
