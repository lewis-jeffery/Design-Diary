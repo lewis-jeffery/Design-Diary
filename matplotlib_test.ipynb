{
 "cells": [
  {
   "cell_type": "markdown",
   "id": "test-markdown-1",
   "metadata": {},
   "source": [
    "# Matplotlib Test Notebook\n",
    "\n",
    "This notebook tests matplotlib integration with magic commands."
   ]
  },
  {
   "cell_type": "code",
   "execution_count": null,
   "id": "test-code-1",
   "metadata": {},
   "outputs": [],
   "source": [
    "%matplotlib inline\n",
    "import matplotlib.pyplot as plt\n",
    "import numpy as np\n",
    "\n",
    "# Create sample data\n",
    "x = np.linspace(0, 10, 100)\n",
    "y = np.sin(x)\n",
    "\n",
    "# Create the plot\n",
    "plt.figure(figsize=(8, 4))\n",
    "plt.plot(x, y, 'b-', linewidth=2, label='sin(x)')\n",
    "plt.title('Sine Wave Test')\n",
    "plt.xlabel('x')\n",
    "plt.ylabel('sin(x)')\n",
    "plt.grid(True, alpha=0.3)\n",
    "plt.legend()\n",
    "plt.show()"
   ]
  },
  {
   "cell_type": "code",
   "execution_count": null,
   "id": "test-code-2",
   "metadata": {},
   "outputs": [],
   "source": [
    "# Test multiple plots in one cell\n",
    "fig, (ax1, ax2) = plt.subplots(1, 2, figsize=(12, 4))\n",
    "\n",
    "# First subplot\n",
    "x = np.linspace(0, 2*np.pi, 50)\n",
    "ax1.plot(x, np.cos(x), 'r-', label='cos(x)')\n",
    "ax1.set_title('Cosine')\n",
    "ax1.legend()\n",
    "ax1.grid(True)\n",
    "\n",
    "# Second subplot\n",
    "ax2.plot(x, np.tan(x), 'g-', label='tan(x)')\n",
    "ax2.set_title('Tangent')\n",
    "ax2.set_ylim(-5, 5)\n",
    "ax2.legend()\n",
    "ax2.grid(True)\n",
    "\n",
    "plt.tight_layout()\n",
    "plt.show()"
   ]
  },
  {
   "cell_type": "code",
   "execution_count": null,
   "id": "test-code-3",
   "metadata": {},
   "outputs": [],
   "source": [
    "# Test with print output and plot\n",
    "print(\"Creating a scatter plot...\")\n",
    "\n",
    "# Generate random data\n",
    "np.random.seed(42)\n",
    "x = np.random.randn(100)\n",
    "y = np.random.randn(100)\n",
    "colors = np.random.rand(100)\n",
    "\n",
    "plt.figure(figsize=(6, 6))\n",
    "plt.scatter(x, y, c=colors, alpha=0.6, cmap='viridis')\n",
    "plt.colorbar()\n",
    "plt.title('Random Scatter Plot')\n",
    "plt.xlabel('X values')\n",
    "plt.ylabel('Y values')\n",
    "plt.show()\n",
    "\n",
    "print(f\"Plot created with {len(x)} points\")\n",
    "print(\"Done!\")"
   ]
  }
 ],
 "metadata": {
  "kernelspec": {
   "display_name": "Python 3",
   "language": "python",
   "name": "python3"
  },
  "language_info": {
   "codemirror_mode": {
    "name": "ipython",
    "version": 3
   },
   "file_extension": ".py",
   "mimetype": "text/x-python",
   "name": "python",
   "nbconvert_exporter": "python",
   "pygments_lexer": "ipython3",
   "version": "3.8.0"
  }
 },
 "nbformat": 4,
 "nbformat_minor": 5
}
