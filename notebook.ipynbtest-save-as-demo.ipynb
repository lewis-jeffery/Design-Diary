{
  "cells": [],
  "metadata": {
    "kernelspec": {
      "display_name": "Python 3",
      "language": "python",
      "name": "python3"
    },
    "language_info": {
      "name": "python",
      "version": "3.8.0",
      "mimetype": "text/x-python",
      "file_extension": ".py"
    },
    "design_diary": {
      "version": "1.0.0",
      "created": "2025-07-20T23:18:27.065Z",
      "modified": "2025-07-20T23:18:27.065Z"
    }
  },
  "nbformat": 4,
  "nbformat_minor": 4
}