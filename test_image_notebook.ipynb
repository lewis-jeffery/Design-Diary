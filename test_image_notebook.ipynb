{
  "cells": [
    {
      "cell_type": "markdown",
      "metadata": {},
      "source": [
        "# Image Test Notebook\n\nThis notebook tests image display functionality."
      ]
    },
    {
      "cell_type": "markdown",
      "metadata": {},
      "source": [
        "## Test Image with HTML Tag\n\n<img src=\"TL494_application.png\" alt=\"Table from text\" style=\"width:500px;\"/>\n\nThis should display the image, not just the alt text."
      ]
    },
    {
      "cell_type": "markdown",
      "metadata": {},
      "source": [
        "## Test Image with Markdown Syntax\n\n![Another test image](test_diagram.png)\n\nThis is a markdown-style image reference."
      ]
    }
  ],
  "metadata": {
    "kernelspec": {
      "display_name": "Python 3",
      "language": "python",
      "name": "python3"
    },
    "language_info": {
      "name": "python",
      "version": "3.8.5"
    },
    "design_diary": {
      "id": "test-image-notebook-123"
    }
  },
  "nbformat": 4,
  "nbformat_minor": 4
}
