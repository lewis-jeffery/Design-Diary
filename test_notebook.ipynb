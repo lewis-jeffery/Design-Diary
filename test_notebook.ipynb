{
  "cells": [
    {
      "cell_type": "markdown",
      "id": "cell-1",
      "metadata": {},
      "source": [
        "# Test Notebook\n",
        "\n",
        "This is a test markdown cell."
      ]
    },
    {
      "cell_type": "code",
      "execution_count": null,
      "id": "cell-2",
      "metadata": {},
      "outputs": [],
      "source": [
        "print('Hello, World!')\n",
        "x = 42\n",
        "print(f'The answer is {x}')"
      ]
    },
    {
      "cell_type": "markdown",
      "id": "cell-3",
      "metadata": {},
      "source": [
        "## Results\n",
        "\n",
        "This cell shows the results of the computation."
      ]
    }
  ],
  "metadata": {
    "kernelspec": {
      "display_name": "Python 3",
      "language": "python",
      "name": "python3"
    },
    "language_info": {
      "name": "python",
      "version": "3.8.0"
    }
  },
  "nbformat": 4,
  "nbformat_minor": 4
}
